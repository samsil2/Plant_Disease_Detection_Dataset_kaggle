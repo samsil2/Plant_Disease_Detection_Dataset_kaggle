{
 "cells": [
  {
   "metadata": {},
   "cell_type": "markdown",
   "source": "Importing Libraries",
   "id": "f61b0fb977cd1d26"
  },
  {
   "metadata": {
    "ExecuteTime": {
     "end_time": "2024-11-20T02:21:15.168882Z",
     "start_time": "2024-11-20T02:20:47.758168Z"
    }
   },
   "cell_type": "code",
   "source": [
    "import tensorflow as tf\n",
    "import matplotlib.pyplot as plt\n",
    "import pandas as pd\n",
    "import seaborn as sns"
   ],
   "id": "dd9275f4543d4f22",
   "outputs": [],
   "execution_count": 1
  },
  {
   "metadata": {},
   "cell_type": "markdown",
   "source": "Training Image preprocessing",
   "id": "73a98ef90d4c20da"
  },
  {
   "metadata": {
    "ExecuteTime": {
     "end_time": "2024-11-20T02:23:36.046765Z",
     "start_time": "2024-11-20T02:23:34.326075Z"
    }
   },
   "cell_type": "code",
   "source": [
    "training_set = tf.keras.utils.image_dataset_from_directory(\n",
    "    'datasettrain',\n",
    "    labels=\"inferred\",\n",
    "    label_mode=\"categorical\",\n",
    "    class_names=None,\n",
    "    color_mode=\"rgb\",\n",
    "    batch_size=32,\n",
    "    image_size=(128, 128),\n",
    "    shuffle=True,\n",
    "    seed=None,\n",
    "    validation_split=None,\n",
    "    subset=None,\n",
    "    interpolation=\"bilinear\",\n",
    "    follow_links=False,\n",
    "    crop_to_aspect_ratio=False\n",
    ")"
   ],
   "id": "2272c0a565b89bbf",
   "outputs": [
    {
     "name": "stdout",
     "output_type": "stream",
     "text": [
      "Found 41147 files belonging to 38 classes.\n"
     ]
    }
   ],
   "execution_count": 3
  },
  {
   "metadata": {
    "ExecuteTime": {
     "end_time": "2024-11-20T02:26:26.378616Z",
     "start_time": "2024-11-20T02:26:25.718811Z"
    }
   },
   "cell_type": "code",
   "source": [
    "validation_set = tf.keras.utils.image_dataset_from_directory(\n",
    "    'valid',\n",
    "    labels=\"inferred\",\n",
    "    label_mode=\"categorical\",\n",
    "    class_names=None,\n",
    "    color_mode=\"rgb\",\n",
    "    batch_size=32,\n",
    "    image_size=(128, 128),\n",
    "    shuffle=True,\n",
    "    seed=None,\n",
    "    validation_split=None,\n",
    "    subset=None,\n",
    "    interpolation=\"bilinear\",\n",
    "    follow_links=False,\n",
    "    crop_to_aspect_ratio=False\n",
    ")"
   ],
   "id": "682bfe2032e73126",
   "outputs": [
    {
     "name": "stdout",
     "output_type": "stream",
     "text": [
      "Found 10373 files belonging to 38 classes.\n"
     ]
    }
   ],
   "execution_count": 4
  },
  {
   "metadata": {},
   "cell_type": "code",
   "outputs": [],
   "execution_count": null,
   "source": "",
   "id": "e04bd7ed5508c890"
  }
 ],
 "metadata": {
  "kernelspec": {
   "display_name": "Python 3",
   "language": "python",
   "name": "python3"
  },
  "language_info": {
   "codemirror_mode": {
    "name": "ipython",
    "version": 2
   },
   "file_extension": ".py",
   "mimetype": "text/x-python",
   "name": "python",
   "nbconvert_exporter": "python",
   "pygments_lexer": "ipython2",
   "version": "2.7.6"
  }
 },
 "nbformat": 4,
 "nbformat_minor": 5
}
