{
 "cells": [
  {
   "metadata": {},
   "cell_type": "markdown",
   "source": "Importing Libraries",
   "id": "f61b0fb977cd1d26"
  },
  {
   "metadata": {
    "ExecuteTime": {
     "end_time": "2024-11-20T02:21:15.168882Z",
     "start_time": "2024-11-20T02:20:47.758168Z"
    }
   },
   "cell_type": "code",
   "source": [
    "import tensorflow as tf\n",
    "import matplotlib.pyplot as plt\n",
    "import pandas as pd\n",
    "import seaborn as sns"
   ],
   "id": "dd9275f4543d4f22",
   "outputs": [],
   "execution_count": 1
  },
  {
   "metadata": {},
   "cell_type": "markdown",
   "source": "Training Image preprocessing",
   "id": "73a98ef90d4c20da"
  },
  {
   "metadata": {
    "ExecuteTime": {
     "end_time": "2024-11-20T02:33:51.652556Z",
     "start_time": "2024-11-20T02:33:46.156006Z"
    }
   },
   "cell_type": "code",
   "source": [
    "training_set = tf.keras.utils.image_dataset_from_directory(\n",
    "    'dataset/train',\n",
    "    labels=\"inferred\",\n",
    "    label_mode=\"categorical\",\n",
    "    class_names=None,\n",
    "    color_mode=\"rgb\",\n",
    "    batch_size=32,\n",
    "    image_size=(128, 128),\n",
    "    shuffle=True,\n",
    "    seed=None,\n",
    "    validation_split=None,\n",
    "    subset=None,\n",
    "    interpolation=\"bilinear\",\n",
    "    follow_links=False,\n",
    "    crop_to_aspect_ratio=False\n",
    ")"
   ],
   "id": "2272c0a565b89bbf",
   "outputs": [
    {
     "name": "stdout",
     "output_type": "stream",
     "text": [
      "Found 70295 files belonging to 38 classes.\n"
     ]
    }
   ],
   "execution_count": 5
  },
  {
   "metadata": {},
   "cell_type": "markdown",
   "source": "Validation Image Preprocessing",
   "id": "b8b62d8a49e5ceeb"
  },
  {
   "metadata": {
    "ExecuteTime": {
     "end_time": "2024-11-20T02:34:37.733731Z",
     "start_time": "2024-11-20T02:34:36.467363Z"
    }
   },
   "cell_type": "code",
   "source": [
    "validation_set = tf.keras.utils.image_dataset_from_directory(\n",
    "    'dataset/valid',\n",
    "    labels=\"inferred\",\n",
    "    label_mode=\"categorical\",\n",
    "    class_names=None,\n",
    "    color_mode=\"rgb\",\n",
    "    batch_size=32,\n",
    "    image_size=(128, 128),\n",
    "    shuffle=True,\n",
    "    seed=None,\n",
    "    validation_split=None,\n",
    "    subset=None,\n",
    "    interpolation=\"bilinear\",\n",
    "    follow_links=False,\n",
    "    crop_to_aspect_ratio=False\n",
    ")"
   ],
   "id": "e04bd7ed5508c890",
   "outputs": [
    {
     "name": "stdout",
     "output_type": "stream",
     "text": [
      "Found 17572 files belonging to 38 classes.\n"
     ]
    }
   ],
   "execution_count": 6
  },
  {
   "metadata": {
    "ExecuteTime": {
     "end_time": "2024-11-20T02:41:15.891514Z",
     "start_time": "2024-11-20T02:41:15.881820Z"
    }
   },
   "cell_type": "code",
   "source": [
    "# # To avoid overshooting the loss function, choose a smaller learning rate.\n",
    "# # The default is usually 0.001, but here we have set it to 0.0001.\n",
    "# learning_rate = 0.0001\n",
    "#\n",
    "# # However, using a small learning rate may lead to underfitting.\n",
    "# # To mitigate this, we can increase the number of neurons in the network to capture more complex patterns.\n",
    "# num_neurons = 128  # Example: Increase the number of neurons\n",
    "#\n",
    "# # Adding more convolutional layers can help the model extract additional features from the images.\n",
    "# # This will help prevent the model from missing important features or becoming confused due to lack of sufficient features.\n",
    "# num_conv_layers = 3  # Example: Add more convolutional layers\n"
   ],
   "id": "f506f86d7b0d2e4f",
   "outputs": [],
   "execution_count": 8
  },
  {
   "metadata": {},
   "cell_type": "markdown",
   "source": "Building Model",
   "id": "7974001d7d9c3ec0"
  },
  {
   "metadata": {
    "ExecuteTime": {
     "end_time": "2024-11-20T02:37:58.327876Z",
     "start_time": "2024-11-20T02:37:58.306801Z"
    }
   },
   "cell_type": "code",
   "outputs": [],
   "execution_count": 7,
   "source": "cnn = tf.keras.models.Sequential()",
   "id": "3ee82647f78fc653"
  },
  {
   "metadata": {},
   "cell_type": "markdown",
   "source": "Building Convolution Layer",
   "id": "19c6b86ca5c4e42f"
  },
  {
   "metadata": {
    "ExecuteTime": {
     "end_time": "2024-11-20T02:43:03.577912Z",
     "start_time": "2024-11-20T02:43:03.542825Z"
    }
   },
   "cell_type": "code",
   "source": [
    "cnn.add(tf.keras.layers.Conv2D(filters=32,kernel_size=3,padding='same',activation='relu',input_shape=[128,128,3]))\n",
    "cnn.add(tf.keras.layers.Conv2D(filters=32,kernel_size=3,activation='relu'))\n",
    "cnn.add(tf.keras.layers.MaxPool2D(pool_size=2,strides=2))"
   ],
   "id": "3b41afbb213564a3",
   "outputs": [],
   "execution_count": 10
  },
  {
   "metadata": {
    "ExecuteTime": {
     "end_time": "2024-11-20T02:44:00.712279Z",
     "start_time": "2024-11-20T02:44:00.668385Z"
    }
   },
   "cell_type": "code",
   "source": [
    "cnn.add(tf.keras.layers.Conv2D(filters=64,kernel_size=3,padding='same',activation='relu'))\n",
    "cnn.add(tf.keras.layers.Conv2D(filters=64,kernel_size=3,activation='relu'))\n",
    "cnn.add(tf.keras.layers.MaxPool2D(pool_size=2,strides=2))"
   ],
   "id": "793ad2469e95560b",
   "outputs": [],
   "execution_count": 11
  },
  {
   "metadata": {
    "ExecuteTime": {
     "end_time": "2024-11-20T02:44:10.680873Z",
     "start_time": "2024-11-20T02:44:10.620417Z"
    }
   },
   "cell_type": "code",
   "source": [
    "cnn.add(tf.keras.layers.Conv2D(filters=128,kernel_size=3,padding='same',activation='relu'))\n",
    "cnn.add(tf.keras.layers.Conv2D(filters=128,kernel_size=3,activation='relu'))\n",
    "cnn.add(tf.keras.layers.MaxPool2D(pool_size=2,strides=2))"
   ],
   "id": "8f786419c02f09c6",
   "outputs": [],
   "execution_count": 12
  },
  {
   "metadata": {
    "ExecuteTime": {
     "end_time": "2024-11-20T02:44:18.867148Z",
     "start_time": "2024-11-20T02:44:18.810412Z"
    }
   },
   "cell_type": "code",
   "source": [
    "cnn.add(tf.keras.layers.Conv2D(filters=256,kernel_size=3,padding='same',activation='relu'))\n",
    "cnn.add(tf.keras.layers.Conv2D(filters=256,kernel_size=3,activation='relu'))\n",
    "cnn.add(tf.keras.layers.MaxPool2D(pool_size=2,strides=2))"
   ],
   "id": "e0bd42f664776350",
   "outputs": [],
   "execution_count": 13
  },
  {
   "metadata": {
    "ExecuteTime": {
     "end_time": "2024-11-20T02:44:27.733028Z",
     "start_time": "2024-11-20T02:44:27.675308Z"
    }
   },
   "cell_type": "code",
   "source": [
    "cnn.add(tf.keras.layers.Conv2D(filters=512,kernel_size=3,padding='same',activation='relu'))\n",
    "cnn.add(tf.keras.layers.Conv2D(filters=512,kernel_size=3,activation='relu'))\n",
    "cnn.add(tf.keras.layers.MaxPool2D(pool_size=2,strides=2))"
   ],
   "id": "1ad91cb982a0329d",
   "outputs": [],
   "execution_count": 14
  },
  {
   "metadata": {
    "ExecuteTime": {
     "end_time": "2024-11-20T02:45:44.534993Z",
     "start_time": "2024-11-20T02:45:44.485469Z"
    }
   },
   "cell_type": "code",
   "source": [
    "cnn.add(tf.keras.layers.Dropout(0.25))\n",
    "cnn.add(tf.keras.layers.Flatten())\n",
    "cnn.add(tf.keras.layers.Dense(units=1500,activation='relu'))\n",
    "\n",
    "#To avoid overfitting\n",
    "cnn.add(tf.keras.layers.Dropout(0.4))"
   ],
   "id": "3ee89ca2b21f40bb",
   "outputs": [],
   "execution_count": 15
  },
  {
   "metadata": {
    "ExecuteTime": {
     "end_time": "2024-11-20T02:45:50.136348Z",
     "start_time": "2024-11-20T02:45:50.119098Z"
    }
   },
   "cell_type": "code",
   "source": [
    "#Output Layer\n",
    "cnn.add(tf.keras.layers.Dense(units=38,activation='softmax'))"
   ],
   "id": "5904c707e349d445",
   "outputs": [],
   "execution_count": 16
  },
  {
   "metadata": {},
   "cell_type": "code",
   "outputs": [],
   "execution_count": null,
   "source": "",
   "id": "41b16ae51cc22516"
  }
 ],
 "metadata": {
  "kernelspec": {
   "display_name": "Python 3",
   "language": "python",
   "name": "python3"
  },
  "language_info": {
   "codemirror_mode": {
    "name": "ipython",
    "version": 2
   },
   "file_extension": ".py",
   "mimetype": "text/x-python",
   "name": "python",
   "nbconvert_exporter": "python",
   "pygments_lexer": "ipython2",
   "version": "2.7.6"
  }
 },
 "nbformat": 4,
 "nbformat_minor": 5
}
